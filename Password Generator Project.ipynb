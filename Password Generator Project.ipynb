{
 "cells": [
  {
   "cell_type": "code",
   "execution_count": 1,
   "metadata": {},
   "outputs": [
    {
     "name": "stdout",
     "output_type": "stream",
     "text": [
      "Total Number of passwords?2\n",
      "Password Length?9\n",
      "^7s0@&&cp\n",
      "Password Length?6\n",
      "87z^5c\n"
     ]
    }
   ],
   "source": [
    "#!/bin/python3\n",
    "\n",
    "import random\n",
    "\n",
    "char = 'abcdefghijklmnopqrstuvwxyz1234567890!@#$%^&*()'\n",
    "\n",
    "long = int(input(\"Total Number of passwords?\"))\n",
    "\n",
    "for p in range(long):\n",
    " \n",
    "    length = int(input(\"Password Length?\"))\n",
    "  \n",
    "    password = ''\n",
    "  \n",
    "    for c in range(length):\n",
    "    \n",
    "       password += random.choice(char)\n",
    "  \n",
    "    print (password)\n"
   ]
  },
  {
   "cell_type": "code",
   "execution_count": null,
   "metadata": {},
   "outputs": [],
   "source": []
  }
 ],
 "metadata": {
  "kernelspec": {
   "display_name": "Python 3",
   "language": "python",
   "name": "python3"
  },
  "language_info": {
   "codemirror_mode": {
    "name": "ipython",
    "version": 3
   },
   "file_extension": ".py",
   "mimetype": "text/x-python",
   "name": "python",
   "nbconvert_exporter": "python",
   "pygments_lexer": "ipython3",
   "version": "3.6.4"
  }
 },
 "nbformat": 4,
 "nbformat_minor": 2
}
