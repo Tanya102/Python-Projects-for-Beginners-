{
  "nbformat": 4,
  "nbformat_minor": 0,
  "metadata": {
    "colab": {
      "name": "Bell_number.ipynb",
      "provenance": []
    },
    "kernelspec": {
      "name": "python3",
      "display_name": "Python 3"
    }
  },
  "cells": [
    {
      "cell_type": "markdown",
      "metadata": {
        "id": "3Ns1F3dzP0yP"
      },
      "source": [
        ""
      ]
    },
    {
      "cell_type": "code",
      "metadata": {
        "id": "rjT0RXpvP1F4",
        "outputId": "8a6215dc-8758-4ced-e685-0bed0f2be464",
        "colab": {
          "base_uri": "https://localhost:8080/",
          "height": 495
        }
      },
      "source": [
        "#Python program to print bell number\n",
        "#Bell Number:-Let S(n, k) be total number of partitions of n elements into k sets. The value of n’th Bell Number is sum of S(n, k) for k = 1 to n. Value of S(n, k) can be defined recursively as, S(n+1, k) = k*S(n, k) + S(n, k-1)\n",
        "#A sample Bell triangle is as follows:\n",
        "#1\n",
        "#1   3\n",
        "#3   8   13\n",
        "#13  23  33  43\n",
        "#The code to print the bell triangle is as follows-\n",
        "#---------------------------------------------------------------------------------------------------------------------------------------------------------------------------------------------------------------\n",
        "n=int(input(\"Enter the number of bell\"))     #taking value from the user\n",
        "bell=0                                       #initialising bell to 'zero'\n",
        "k=0                                          #initialising k to 'zero'\n",
        "for i in range(n):                         #loop for changing rows from 0 to n\n",
        "    for j in range(i+1):                   #printing columns\n",
        "        if j==0 and i>0:                     #repeating the last number of previous row in new row\n",
        "            print(bell,'',end='')            #printing first number of each line\n",
        "        else:\n",
        "            k=(i**2)+1+bell                  #to generate other numbers of line\n",
        "            print(k,'',end='')               #printing other number in lines\n",
        "            bell=k                           #updating value of bell \n",
        "    print('\\n')                              #for moving into next lines           \n",
        "print( f\" The last number of bell is {bell}\")    "
      ],
      "execution_count": 3,
      "outputs": [
        {
          "output_type": "stream",
          "text": [
            "enter the number of bell12\n",
            "1 \n",
            "\n",
            "1 3 \n",
            "\n",
            "3 8 13 \n",
            "\n",
            "13 23 33 43 \n",
            "\n",
            "43 60 77 94 111 \n",
            "\n",
            "111 137 163 189 215 241 \n",
            "\n",
            "241 278 315 352 389 426 463 \n",
            "\n",
            "463 513 563 613 663 713 763 813 \n",
            "\n",
            "813 878 943 1008 1073 1138 1203 1268 1333 \n",
            "\n",
            "1333 1415 1497 1579 1661 1743 1825 1907 1989 2071 \n",
            "\n",
            "2071 2172 2273 2374 2475 2576 2677 2778 2879 2980 3081 \n",
            "\n",
            "3081 3203 3325 3447 3569 3691 3813 3935 4057 4179 4301 4423 \n",
            "\n",
            "last number of bell is 4423\n"
          ],
          "name": "stdout"
        }
      ]
    }
  ]
}